{
 "cells": [
  {
   "cell_type": "code",
   "execution_count": 1,
   "metadata": {},
   "outputs": [
    {
     "name": "stderr",
     "output_type": "stream",
     "text": [
      "/home/elhamod/.local/lib/python3.8/site-packages/tqdm/auto.py:22: TqdmWarning: IProgress not found. Please update jupyter and ipywidgets. See https://ipywidgets.readthedocs.io/en/stable/user_install.html\n",
      "  from .autonotebook import tqdm as notebook_tqdm\n"
     ]
    }
   ],
   "source": [
    "from torchvision import transforms, utils\n",
    "import numpy as np\n",
    "\n",
    "import os\n",
    "\n",
    "from PIL import Image\n",
    "from pathlib import Path\n",
    "\n",
    "from tqdm.notebook import tqdm"
   ]
  },
  {
   "cell_type": "code",
   "execution_count": 2,
   "metadata": {},
   "outputs": [],
   "source": [
    "### parameters\n",
    "src_dir = \"/home/elhamod/data/Fish/train\"\n",
    "target_dir = \"/home/elhamod/data/Fish/train_padded_256\" \n",
    "res=256"
   ]
  },
  {
   "cell_type": "code",
   "execution_count": 3,
   "metadata": {},
   "outputs": [],
   "source": [
    "\n",
    "from torchvision import transforms, utils\n",
    "import numpy as np\n",
    "\n",
    "import os\n",
    "\n",
    "from PIL import Image\n",
    "from pathlib import Path\n",
    "\n",
    "from tqdm.notebook import tqdm\n",
    "\n",
    "IMAGENET_MEAN_COLOR=np.asarray([ 0.485, 0.456, 0.406 ])\n",
    "\n",
    "def MakeSquared(img, imageDimension=128, mean=None):\n",
    "    img_H = img.size[0]\n",
    "    img_W = img.size[1]\n",
    "\n",
    "    # Resize and pad\n",
    "    smaller_dimension = 0 if img_H < img_W else 1\n",
    "    larger_dimension = 1 if img_H < img_W else 0\n",
    "    if (imageDimension != img_H or imageDimension != img_W):\n",
    "        new_smaller_dimension = int(imageDimension * img.size[smaller_dimension] / img.size[larger_dimension])\n",
    "        if smaller_dimension == 1:\n",
    "            img = transforms.functional.resize(img, (new_smaller_dimension, imageDimension))\n",
    "        else:\n",
    "            img = transforms.functional.resize(img, (imageDimension, new_smaller_dimension))\n",
    "\n",
    "        diff = imageDimension - new_smaller_dimension\n",
    "        pad_1 = int(diff/2)\n",
    "        pad_2 = diff - pad_1\n",
    "        \n",
    "        # if mean=None is passed, use the color of the top left pixel.\n",
    "        if mean is None:\n",
    "            mean = img.load()[0, 0]\n",
    "        \n",
    "        fill = mean\n",
    "\n",
    "        if smaller_dimension == 0:\n",
    "            img = transforms.functional.pad(img, (pad_1, 0, pad_2, 0), padding_mode='constant', fill = fill)\n",
    "        else:\n",
    "            img = transforms.functional.pad(img, (0, pad_1, 0, pad_2), padding_mode='constant', fill = fill)\n",
    "\n",
    "    return img\n",
    "\n",
    " "
   ]
  },
  {
   "cell_type": "code",
   "execution_count": 4,
   "metadata": {},
   "outputs": [],
   "source": [
    "for root, dirs, files in os.walk(src_dir, topdown = False):\n",
    "    for name in files:\n",
    "        if (name.endswith(\".jpg\") or name.endswith(\".JPG\")):\n",
    "            filename = os.path.join(root, name)\n",
    "            orig_img = Image.open(filename)\n",
    "            target_img = MakeSquared(orig_img, res)\n",
    "            target_path = os.path.join(target_dir, os.path.relpath(root, src_dir))\n",
    "            if not os.path.exists(target_path):\n",
    "                os.makedirs(target_path)\n",
    "            target_img.save(os.path.join(target_path, name))"
   ]
  },
  {
   "cell_type": "code",
   "execution_count": null,
   "metadata": {},
   "outputs": [],
   "source": []
  }
 ],
 "metadata": {
  "kernelspec": {
   "display_name": "Python 3 (ipykernel)",
   "language": "python",
   "name": "python3"
  },
  "language_info": {
   "codemirror_mode": {
    "name": "ipython",
    "version": 3
   },
   "file_extension": ".py",
   "mimetype": "text/x-python",
   "name": "python",
   "nbconvert_exporter": "python",
   "pygments_lexer": "ipython3",
   "version": "3.8.12"
  }
 },
 "nbformat": 4,
 "nbformat_minor": 2
}
