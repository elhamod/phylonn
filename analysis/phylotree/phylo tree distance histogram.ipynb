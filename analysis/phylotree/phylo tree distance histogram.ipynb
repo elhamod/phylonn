{
 "cells": [
  {
   "cell_type": "code",
   "execution_count": 1,
   "id": "2c65be19",
   "metadata": {},
   "outputs": [],
   "source": [
    "from taming.data.phylogeny import Phylogeny"
   ]
  },
  {
   "cell_type": "code",
   "execution_count": 2,
   "id": "fb623935",
   "metadata": {},
   "outputs": [
    {
     "name": "stdout",
     "output_type": "stream",
     "text": [
      "{'Alosa chrysochloris': 482298, 'Carassius auratus': 1005907, 'Cyprinus carpio': 429083, 'Esox americanus': 496115, 'Gambusia affinis': 617445, 'Lepisosteus osseus': 519445, 'Lepisosteus platostomus': 731608, 'Lepomis auritus': 1002718, 'Lepomis cyanellus': 476361, 'Lepomis gibbosus': 670266, 'Lepomis gulosus': 476359, 'Lepomis humilis': 892772, 'Lepomis macrochirus': 836783, 'Lepomis megalotis': 271249, 'Lepomis microlophus': 271244, 'Morone chrysops': 246133, 'Morone mississippiensis': 769290, 'Notropis atherinoides': 636312, 'Notropis blennius': 419165, 'Notropis boops': 443777, 'Notropis buccatus': 269524, 'Notropis buchanani': 555686, 'Notropis dorsalis': 419160, 'Notropis hudsonius': 135051, 'Notropis leuciodus': 338652, 'Notropis nubilus': 550199, 'Notropis percobromus': 403731, 'Notropis stramineus': 351741, 'Notropis telescopus': 550190, 'Notropis texanus': 550208, 'Notropis volucellus': 351735, 'Notropis wickliffi': 563834, 'Noturus exilis': 678206, 'Noturus flavus': 101864, 'Noturus gyrinus': 652777, 'Noturus miurus': 282530, 'Noturus nocturnus': 621586, 'Phenacobius mirabilis': 945111}\n"
     ]
    }
   ],
   "source": [
    "phylogeny = Phylogeny(\"/home/elhamod/data/Fish\")"
   ]
  },
  {
   "cell_type": "code",
   "execution_count": 3,
   "id": "7992e06d",
   "metadata": {},
   "outputs": [],
   "source": [
    "tree = phylogeny.tree"
   ]
  },
  {
   "cell_type": "code",
   "execution_count": 4,
   "id": "b059bb35",
   "metadata": {},
   "outputs": [],
   "source": [
    "distances_from_root = []\n",
    "hops_fro_root = []\n",
    "r = tree.get_tree_root()\n",
    "for n in tree.traverse():\n",
    "    distances_from_root.append(tree.get_distance(n, r))\n",
    "    hops_fro_root.append(tree.get_distance(n, r, topology_only=True))\n",
    "    \n",
    "distances_from_root = [x/max(distances_from_root) for x in distances_from_root] # 1- ?"
   ]
  },
  {
   "cell_type": "code",
   "execution_count": 5,
   "id": "806ace0e",
   "metadata": {},
   "outputs": [
    {
     "data": {
      "text/plain": [
       "<BarContainer object of 30 artists>"
      ]
     },
     "execution_count": 5,
     "metadata": {},
     "output_type": "execute_result"
    },
    {
     "data": {
      "image/png": "[encoded data removed]",
      "text/plain": [
       "<Figure size 432x288 with 1 Axes>"
      ]
     },
     "metadata": {
      "needs_background": "light"
     },
     "output_type": "display_data"
    }
   ],
   "source": [
    "import matplotlib.pyplot as plt\n",
    "import scipy\n",
    "import numpy as np\n",
    "%matplotlib inline\n",
    "\n",
    "count1, bins_count1 = np.histogram(distances_from_root, bins=30)\n",
    "pdf = count1 / sum(count1)\n",
    "plt.bar(bins_count1[1:], pdf, color=\"red\", label=\"PDF\", width = 0.01)"
   ]
  },
  {
   "cell_type": "code",
   "execution_count": 6,
   "id": "8a5ec7e6",
   "metadata": {},
   "outputs": [],
   "source": [
    "# yticks = [0.25, 0.5, 0.75]\n",
    "yticks = [1/15, 3/15, 7/15] # each band should double number of nodes. [x, 2x, 4x, 8x]"
   ]
  },
  {
   "cell_type": "code",
   "execution_count": 7,
   "id": "75e65389",
   "metadata": {},
   "outputs": [
    {
     "data": {
      "image/png": "[encoded data removed]",
      "text/plain": [
       "<Figure size 432x288 with 1 Axes>"
      ]
     },
     "metadata": {
      "needs_background": "light"
     },
     "output_type": "display_data"
    }
   ],
   "source": [
    "cdf = np.cumsum(pdf)\n",
    "\n",
    "plt.bar(bins_count1[1:], cdf, color=\"green\", label=\"CDF\", width = 0.01)\n",
    "plt.plot(bins_count1[1:], bins_count1[1:])\n",
    "\n",
    "plt.yticks(yticks)\n",
    "\n",
    "xticks = []\n",
    "j = 0\n",
    "for indx, i in enumerate(bins_count1[1:]):\n",
    "    if cdf[indx] > yticks[j]:\n",
    "        xtick = bins_count1[indx-1]\n",
    "        xticks.append(xtick)\n",
    "        j = j+1\n",
    "        if j == 3: break\n",
    "plt.xticks(xticks)        \n",
    "\n",
    "plt.title(\"CDF of distances from root\")\n",
    "\n",
    "plt.show()\n",
    "\n"
   ]
  },
  {
   "cell_type": "code",
   "execution_count": 10,
   "id": "e4c4fba6",
   "metadata": {},
   "outputs": [
    {
     "name": "stdout",
     "output_type": "stream",
     "text": [
      "The phylo quantizations should be at [0.3333333333333333, 0.5, 0.7666666666666666]\n"
     ]
    }
   ],
   "source": [
    "print('The phylo quantizations should be at', xticks)"
   ]
  },
  {
   "cell_type": "code",
   "execution_count": 8,
   "id": "4d70f555",
   "metadata": {},
   "outputs": [],
   "source": [
    "#### Scratches:\n",
    "\n",
    "# plt.hist(distances_from_root, density=True, bins=30, cumulative=True) \n",
    "# plt.ylabel('CDF')\n",
    "# plt.xlabel('Distance');\n",
    "\n",
    "# from ete3 import Tree\n",
    "# def search_by_size(node, size):\n",
    "#     \"Finds nodes with a given number of leaves\"\n",
    "#     matches = []\n",
    "#     for n in node.traverse():\n",
    "#        if len(n) == size:\n",
    "#           matches.append(n)\n",
    "#     return matches\n",
    "\n",
    "# t = Tree()\n",
    "# t.populate(40)\n",
    "# # returns nodes containing 6 leaves\n",
    "# search_by_size(t, size=6)\n",
    "\n",
    "# hops_fro_root = [x/max(hops_fro_root) for x in hops_fro_root]"
   ]
  }
 ],
 "metadata": {
  "kernelspec": {
   "display_name": "Python 3 (ipykernel)",
   "language": "python",
   "name": "python3"
  },
  "language_info": {
   "codemirror_mode": {
    "name": "ipython",
    "version": 3
   },
   "file_extension": ".py",
   "mimetype": "text/x-python",
   "name": "python",
   "nbconvert_exporter": "python",
   "pygments_lexer": "ipython3",
   "version": "3.8.12"
  }
 },
 "nbformat": 4,
 "nbformat_minor": 5
}
